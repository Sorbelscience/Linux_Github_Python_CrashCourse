{
  "nbformat": 4,
  "nbformat_minor": 0,
  "metadata": {
    "colab": {
      "provenance": [],
      "include_colab_link": true
    },
    "kernelspec": {
      "name": "python3",
      "display_name": "Python 3"
    },
    "language_info": {
      "name": "python"
    }
  },
  "cells": [
    {
      "cell_type": "markdown",
      "metadata": {
        "id": "view-in-github",
        "colab_type": "text"
      },
      "source": [
        "<a href=\"https://colab.research.google.com/github/Sorbelscience/Linux_Github_Python_CrashCourse/blob/main/Python_Tutorial.ipynb\" target=\"_parent\"><img src=\"https://colab.research.google.com/assets/colab-badge.svg\" alt=\"Open In Colab\"/></a>"
      ]
    },
    {
      "cell_type": "markdown",
      "source": [
        "# Welcome To Python!\n",
        "## Writing Your First Program\n",
        "1. Good Programming Practices\n",
        "  - Always be sure to give yourself credit for your implementation.\n",
        "  - If you reference any exterior sites, be sure to include a link to the code you used.\n",
        "  - Plagerism ethics exists in software as well.\n"
      ],
      "metadata": {
        "id": "zp2vguf_OwVN"
      }
    },
    {
      "cell_type": "code",
      "execution_count": null,
      "metadata": {
        "colab": {
          "base_uri": "https://localhost:8080/"
        },
        "id": "KkYq6Z4jOtaa",
        "outputId": "3f8a90d2-7eef-4a59-e05a-36bc22f42a86"
      },
      "outputs": [
        {
          "output_type": "stream",
          "name": "stdout",
          "text": [
            "Hello World!\n"
          ]
        }
      ],
      "source": [
        "'''\n",
        "@author: Your Name\n",
        "@date: Last Time You Made Changes\n",
        "@program description: What your Program does or is going to do (This program will print hello world to the terminal)\n",
        "'''\n",
        "\n",
        "# print hello world in python\n",
        "print(\"Hello World!\")"
      ]
    },
    {
      "cell_type": "markdown",
      "source": [
        "# The Importance of Print Statements\n",
        "1. You can format data to be communicated to your user or yourself.\n",
        "2. Great tool for debugging\n",
        "3. Can help you figure out if certain instructions in your code are being excuted"
      ],
      "metadata": {
        "id": "fBD1y5dSQKV9"
      }
    },
    {
      "cell_type": "markdown",
      "source": [
        "# Operators\n",
        "### In coding there are many mathematical and logical operators that you can use to provide instructions to your programs.\n",
        "\n",
        "\n",
        "\n",
        "```\n",
        "# The basic ones are addition, subtraction, multiplication, and division\n",
        "+, -, *, /,\n",
        "\n",
        "# combination operators: plus equals(add 1), minus equals(subtract 1), multiply equals(multiply by a value), and divide equals(divide by a value)\n",
        "+=, -=, *=, /=\n",
        "\n",
        "# Domain and Logic Operators:\n",
        "# <, >, <=, >=, ==(equal to), !=(not equal to)\n",
        "# and, or, not\n",
        "\n",
        "# bitwise\n",
        "# & binary AND\n",
        "# | binary OR\n",
        "\n",
        "```\n",
        "\n"
      ],
      "metadata": {
        "id": "MU_mNJhrksIp"
      }
    },
    {
      "cell_type": "code",
      "source": [
        "# AND examples\n",
        "a = 1\n",
        "b = 1\n",
        "if(a & b):\n",
        "  print(True)\n",
        "else:\n",
        "  print(False)\n",
        "\n",
        "a = 0\n",
        "b = 1\n",
        "if(a & b):\n",
        "  print(True)\n",
        "else:\n",
        "  print(False)"
      ],
      "metadata": {
        "id": "l7oFjlbhpr1m",
        "outputId": "f4c00a1c-e26b-4c30-813b-ee515cfcc463",
        "colab": {
          "base_uri": "https://localhost:8080/"
        }
      },
      "execution_count": 1,
      "outputs": [
        {
          "output_type": "stream",
          "name": "stdout",
          "text": [
            "True\n",
            "False\n"
          ]
        }
      ]
    },
    {
      "cell_type": "code",
      "source": [
        "# OR examples\n",
        "a = 1\n",
        "b = 1\n",
        "if(a | b):\n",
        "  print(True)\n",
        "else:\n",
        "  print(False)\n",
        "\n",
        "a = 0\n",
        "b = 1\n",
        "if(a | b):\n",
        "  print(True)\n",
        "else:\n",
        "  print(False)\n",
        "\n",
        "a = 0\n",
        "b = 0\n",
        "if(a | b):\n",
        "  print(True)\n",
        "else:\n",
        "  print(False)"
      ],
      "metadata": {
        "id": "3Ue6Re6spo0d",
        "outputId": "410b8c32-0ff5-4720-8541-4f21ef763dfc",
        "colab": {
          "base_uri": "https://localhost:8080/"
        }
      },
      "execution_count": null,
      "outputs": [
        {
          "output_type": "stream",
          "name": "stdout",
          "text": [
            "True\n",
            "True\n",
            "False\n"
          ]
        }
      ]
    },
    {
      "cell_type": "markdown",
      "source": [
        "# Variables and Data-Types\n",
        "## There are a few different data types in programming\n",
        "1. int: integers\n",
        "2. floats: scientific notation digits\n",
        "3. char: characters any key that exists on your keyboard is considered to be a char datatype.\n",
        "  - chars are often represented in single quotes IE: 'e', 'a'\n",
        "4. strings: words and sentences represented in double quotes \"Hello World!\"\n",
        "5. boolean: True or False(0 or 1)"
      ],
      "metadata": {
        "id": "KG0btwPpQqyQ"
      }
    },
    {
      "cell_type": "markdown",
      "source": [
        "# Python is a Typeless Language\n",
        "1. Python assigns the correct data type based on what you set a variable to. Like in algebra where x = some value, in programming we get to do the same type of assignments."
      ],
      "metadata": {
        "id": "ewba_obqSeYK"
      }
    },
    {
      "cell_type": "markdown",
      "source": [
        "# Ints and Floats"
      ],
      "metadata": {
        "id": "IkyixGdrYJHg"
      }
    },
    {
      "cell_type": "code",
      "source": [
        "# Python library\n",
        "import math\n",
        "'''\n",
        "@author: Dan B\n",
        "@date: May 13, 2023\n",
        "@program description: This program will teach students how to assign variables and check output with print statements\n",
        "'''\n",
        "\n",
        "# Let's Implement The Pythagorean Theorem,.... the hard way\n",
        "a = 2\n",
        "b = 3\n",
        "# for programs that will run once, it is a good practice to initialize \"empty variables as 0\"\n",
        "# c = 0\n",
        "\n",
        "# Math!\n",
        "print(\"The value of a is: \", a)\n",
        "print(\"The value of b is: \", b)\n",
        "\n",
        "# Pythagorean Theorem\n",
        "c = math.sqrt((a * a) + (b * b))\n",
        "# What Datatype do you think will be the output?\n",
        "print(\"The hypotenuse is: \", c)\n",
        "\n",
        "# Let's try casting this to a different datatype\n",
        "print(\"The hypotenuse is: \", int((c)))\n"
      ],
      "metadata": {
        "colab": {
          "base_uri": "https://localhost:8080/"
        },
        "id": "DL4naw1SQovT",
        "outputId": "2a0fcb56-55e5-4b45-bb1c-907f1dd12014"
      },
      "execution_count": null,
      "outputs": [
        {
          "output_type": "stream",
          "name": "stdout",
          "text": [
            "The value of a is:  2\n",
            "The value of b is:  3\n",
            "The hypotenuse is:  3.605551275463989\n",
            "The hypotenuse is:  3\n"
          ]
        }
      ]
    },
    {
      "cell_type": "markdown",
      "source": [
        "# Chars\n",
        "### Let's try assigning some char variables"
      ],
      "metadata": {
        "id": "xnNJWHZxVD21"
      }
    },
    {
      "cell_type": "code",
      "source": [
        "s = \"hello\"\n",
        "print(s)\n",
        "\n",
        "a = 'e'\n",
        "print(a)\n",
        "\n",
        "a = \"\"\"a\"\"\"\n",
        "print(a)\n",
        "\n",
        "statement = \"\"\"hello there guys'\"\"\"\n",
        "print(statement)"
      ],
      "metadata": {
        "id": "ENgZW9veR2T_",
        "outputId": "0240e0fc-7db2-49ad-87ed-e13ae43ec1e4",
        "colab": {
          "base_uri": "https://localhost:8080/"
        }
      },
      "execution_count": null,
      "outputs": [
        {
          "output_type": "stream",
          "name": "stdout",
          "text": [
            "hello\n",
            "e\n",
            "a\n",
            "hello there guys'\n"
          ]
        }
      ]
    },
    {
      "cell_type": "code",
      "source": [
        "a = 'a'\n",
        "b = 'b'\n",
        "c = 'c'\n",
        "one = '1'\n",
        "two = '2'\n",
        "three = '3'\n",
        "\n",
        "# using type to check your data types\n",
        "# use print for debugging\n",
        "print(type(one))\n",
        "\n",
        "print(a,b,c,\"easy as\", one, two, three)\n",
        "# print(a,\",\",b,\",\",c,\",\",\"easy as\", one, \",\", two, \",\", three, \",\")\n"
      ],
      "metadata": {
        "colab": {
          "base_uri": "https://localhost:8080/"
        },
        "id": "lBk0ratSVQYF",
        "outputId": "870c5963-401d-4112-c231-29328f929b0d"
      },
      "execution_count": null,
      "outputs": [
        {
          "output_type": "stream",
          "name": "stdout",
          "text": [
            "<class 'str'>\n",
            "a b c easy as 1 2 3\n"
          ]
        }
      ]
    },
    {
      "cell_type": "markdown",
      "source": [
        "# What is a String?\n",
        "- You can think of a string as a bunch of chars condensed into a single data type. In fact that's how they work! For this portion, we will look at a couple ways we can mess around with strings and how a string is put together using something called a list."
      ],
      "metadata": {
        "id": "SEqZyxVCZJCv"
      }
    },
    {
      "cell_type": "code",
      "source": [
        "# so far we've learned that you can print a string by typing a message between two double quotes (\"\")\n",
        "print(\"Hello_World!\")\n",
        "\n",
        "# However, Python knows the string data type when assigning it to a variable\n",
        "message = \"Hello_World!\"\n",
        "print(message)\n",
        "\n",
        "'''\n",
        " This is just a couple ways we can do the same thing. The second implementation\n",
        " allows us to reuse the same message throughout our program instead of typing it\n",
        " in over and over again using the double quotes.\n",
        "'''"
      ],
      "metadata": {
        "colab": {
          "base_uri": "https://localhost:8080/"
        },
        "id": "9dwPOE3bcLjR",
        "outputId": "ab817102-e19a-4bc1-8413-e708a647984a"
      },
      "execution_count": null,
      "outputs": [
        {
          "output_type": "stream",
          "name": "stdout",
          "text": [
            "Hello_World!\n",
            "Hello_World!\n"
          ]
        }
      ]
    },
    {
      "cell_type": "code",
      "source": [
        "mylist = [1,2,3]\n",
        "\n",
        "print(mylist)\n",
        "\n",
        "print(mylist[2])"
      ],
      "metadata": {
        "id": "vj4IZz8RT0j0",
        "outputId": "4359fb2c-d5d2-423c-e0a9-fb92513dada0",
        "colab": {
          "base_uri": "https://localhost:8080/"
        }
      },
      "execution_count": null,
      "outputs": [
        {
          "output_type": "stream",
          "name": "stdout",
          "text": [
            "[1, 2, 3]\n",
            "3\n"
          ]
        }
      ]
    },
    {
      "cell_type": "markdown",
      "source": [
        "# Tuples\n",
        "\n",
        "Tuples are a versatile data structure in Python that allow you to store multiple elements. Tuples are similar to lists, but they are immutable, meaning their values cannot be changed after creation. Here's a beginner-friendly tutorial on tuples in Python:\n",
        "\n",
        "1. Creating a Tuple:\n",
        "   To create a tuple, you enclose comma-separated values within parentheses `()`. Alternatively, you can use the `tuple()` function to create a tuple. Here's an example:\n",
        "\n",
        "   ```python\n",
        "   # Empty tuple\n",
        "   my_tuple = ()\n",
        "\n",
        "   # Tuple with values\n",
        "   my_tuple = (1, 2, 3)\n",
        "\n",
        "   # Using the tuple() function\n",
        "   my_tuple = tuple([1, 2, 3])\n",
        "   ```\n",
        "\n",
        "2. Accessing Tuple Elements:\n",
        "   You can access elements in a tuple using indexing, similar to lists. The index starts from 0 for the first element. Additionally, you can use negative indexing to access elements from the end of the tuple. Here's an example:\n",
        "\n",
        "   ```python\n",
        "   my_tuple = (1, 2, 3, 4, 5)\n",
        "\n",
        "   print(my_tuple[0])  # Output: 1\n",
        "   print(my_tuple[-1])  # Output: 5\n",
        "   ```\n",
        "\n",
        "3. Tuple Slicing:\n",
        "   Like lists, you can use slicing to access a range of elements in a tuple. Slicing returns a new tuple containing the specified elements. Here's an example:\n",
        "\n",
        "   ```python\n",
        "   my_tuple = (1, 2, 3, 4, 5)\n",
        "\n",
        "   print(my_tuple[1:3])  # Output: (2, 3)\n",
        "   print(my_tuple[2:])  # Output: (3, 4, 5)\n",
        "   ```\n",
        "\n",
        "4. Tuple Unpacking:\n",
        "   Tuple unpacking allows you to assign individual elements of a tuple to separate variables. This can be useful when working with functions that return multiple values as a tuple. Here's an example:\n",
        "\n",
        "   ```python\n",
        "   my_tuple = (1, 2, 3)\n",
        "\n",
        "   a, b, c = my_tuple\n",
        "   print(a)  # Output: 1\n",
        "   print(b)  # Output: 2\n",
        "   print(c)  # Output: 3\n",
        "   ```\n",
        "\n",
        "5. Tuple Methods:\n",
        "   Tuples provide a few built-in methods to perform common operations:\n",
        "\n",
        "   - `count(value)`: Returns the number of occurrences of a value in the tuple.\n",
        "   - `index(value)`: Returns the index of the first occurrence of a value in the tuple.\n",
        "\n",
        "   Here's an example:\n",
        "\n",
        "   ```python\n",
        "   my_tuple = (1, 2, 2, 3, 4, 2)\n",
        "\n",
        "   print(my_tuple.count(2))  # Output: 3\n",
        "   print(my_tuple.index(3))  # Output: 3\n",
        "   ```\n",
        "\n",
        "6. Iterating Over a Tuple:\n",
        "   You can use a `for` loop to iterate over the elements of a tuple, similar to lists. Here's an example:\n",
        "\n",
        "   ```python\n",
        "   my_tuple = (1, 2, 3)\n",
        "\n",
        "   for element in my_tuple:\n",
        "       print(element)\n",
        "   ```\n",
        "\n",
        "7. Immutable Nature:\n",
        "   Tuples are immutable, meaning their values cannot be changed after creation. However, you can create new tuples by concatenating or slicing existing tuples. Here's an example:\n",
        "\n",
        "   ```python\n",
        "   my_tuple = (1, 2, 3)\n",
        "   new_tuple = my_tuple + (4, 5)\n",
        "   print(new_tuple)  # Output: (1, 2, 3, 4, 5)\n",
        "   ```\n",
        "\n",
        "These are the basic concepts of tuples\n",
        "\n",
        "References: [chatGPT](https://openai.com/blog/chatgpt)"
      ],
      "metadata": {
        "id": "4H8FMc2gy_Lb"
      }
    },
    {
      "cell_type": "markdown",
      "source": [
        "# What is a List and how is it related to a string?\n",
        "- A list is a collection of data stored in something we traditionally call and array or if you prefer a vector."
      ],
      "metadata": {
        "id": "5CdxiW1xdgUe"
      }
    },
    {
      "cell_type": "code",
      "source": [
        "# For lists we can mix and match data types (this is no permissible in C and C++)\n",
        "list1 = ['Dan', 37, 12.3957, \"Hello_World!\"]\n",
        "# we can print the whole list the same way we just printed the message moments ago.\n",
        "print(list1)\n",
        "\n",
        "\n",
        "\n",
        "# however, what if we only wanted one thing from the list? like 'Dan' or \"Hello_World?'\n",
        "print(list1[0])\n",
        "# Dan\n",
        "\n",
        "# Hello World\n",
        "\n",
        "# This is called accessing an element of the array(aka list)\n",
        "\n",
        "# when you typed in hello_world between the double quotes here's what\n",
        "# the computer is doing with your message under the hood.\n",
        "\n",
        "helloList = ['H','e','l','l','o','_','W','o','r','l','d']\n",
        "\n",
        "print(helloList[0] + helloList[1] +helloList[2] + helloList[3] + helloList[4] +\n",
        "      helloList[5] + helloList[6] +helloList[7] + helloList[8] + helloList[9] +\n",
        "      helloList[10])\n",
        "\n",
        "# An easy way to tell how many elements long is your list\n",
        "# remember that counts start at 0. Even though the total from len is 11,\n",
        "# because of the counting convention it is (n-1) for the list (0 - 10).\n",
        "len(helloList)\n",
        "\n",
        "# what happens if we give the list 11 as an element\n",
        "# helloList[11]"
      ],
      "metadata": {
        "colab": {
          "base_uri": "https://localhost:8080/"
        },
        "id": "jENAfhrhdnER",
        "outputId": "768562ac-5cd5-4ad9-aa90-fa3ad70b1788"
      },
      "execution_count": null,
      "outputs": [
        {
          "output_type": "stream",
          "name": "stdout",
          "text": [
            "['Dan', 37, 12.3957, 'Hello_World!']\n",
            "Dan\n",
            "Hello_World\n"
          ]
        },
        {
          "output_type": "execute_result",
          "data": {
            "text/plain": [
              "11"
            ]
          },
          "metadata": {},
          "execution_count": 11
        }
      ]
    },
    {
      "cell_type": "markdown",
      "source": [
        "# More on Lists\n",
        "- let's say we needed to add something new to a list or remove some entries that weren't relevant to a data set. How would we do this?"
      ],
      "metadata": {
        "id": "hPuYlDxOg7M2"
      }
    },
    {
      "cell_type": "code",
      "source": [
        "# Introducing member functions\n",
        "video_games = [\"Legend of Zelda\", \"Super Mario Odessey\", \"Elden Ring\", \"Zork\", \"Tales of Arise\"]\n",
        "print(video_games)\n",
        "# Maybe we want what at the end of the list first. To do this we can use a member function called .reverse()\n",
        "print(type(video_games))\n",
        "video_games.reverse()\n",
        "print(video_games)\n",
        "\n",
        "# Let's sort our list in ascending alphabetical order NOTE: this only works for lists that have the same data type\n",
        "# list1 above would not be able to use this method for example.\n",
        "video_games.sort()\n",
        "print(video_games)\n",
        "\n",
        "# in descending order\n",
        "video_games.sort(reverse=True)\n",
        "print(video_games)\n",
        "\n",
        "\n",
        "\n",
        "# let's remove Hello_World from our List (it's worn out its welcome!).\n",
        "# list1[3].remove()\n",
        "video_games.remove(\"Legend of Zelda\")\n",
        "video_games.pop()\n",
        "#video_games.\n",
        "# list1.rem-gamesove(0)\n",
        "print(video_games)"
      ],
      "metadata": {
        "colab": {
          "base_uri": "https://localhost:8080/"
        },
        "id": "OtgwVZuWhHrX",
        "outputId": "f4178bd7-98b4-43f0-f213-3fb4abec90ed"
      },
      "execution_count": null,
      "outputs": [
        {
          "output_type": "stream",
          "name": "stdout",
          "text": [
            "['Legend of Zelda', 'Super Mario Odessey', 'Elden Ring', 'Zork', 'Tales of Arise']\n",
            "<class 'list'>\n",
            "['Tales of Arise', 'Zork', 'Elden Ring', 'Super Mario Odessey', 'Legend of Zelda']\n",
            "['Elden Ring', 'Legend of Zelda', 'Super Mario Odessey', 'Tales of Arise', 'Zork']\n",
            "['Zork', 'Tales of Arise', 'Super Mario Odessey', 'Legend of Zelda', 'Elden Ring']\n",
            "['Zork', 'Tales of Arise', 'Super Mario Odessey']\n"
          ]
        }
      ]
    },
    {
      "cell_type": "markdown",
      "source": [
        "# Looping Through Lists: The \"for loop\""
      ],
      "metadata": {
        "id": "ZbtJf6EckG2U"
      }
    },
    {
      "cell_type": "code",
      "source": [
        "# maybe we want to print out each element one at a time from the list instead of just displaying it\n",
        "video_games = [\"Legend of Zelda\", \"Super Mario Odessey\", \"Elden Ring\", \"Zork\", \"Tales of Arise\"]\n",
        "\n",
        "# We could do it this way\n",
        "print(len(video_games))\n",
        "\n",
        "# print(video_games[0])\n",
        "# print(video_games[1])\n",
        "# print(video_games[2])\n",
        "# print(video_games[3])\n",
        "# print(video_games[4])\n",
        "\n",
        "# But what if I told you there was an easier way?\n",
        "# Let's try a for loop!\n",
        "\n",
        "for video_game_title in video_games:\n",
        "  print(video_game_title)"
      ],
      "metadata": {
        "colab": {
          "base_uri": "https://localhost:8080/"
        },
        "id": "zo-2BOO0kLMQ",
        "outputId": "3c658eb6-a666-4cc7-b730-9fefedda90fe"
      },
      "execution_count": null,
      "outputs": [
        {
          "output_type": "stream",
          "name": "stdout",
          "text": [
            "5\n",
            "Legend of Zelda\n",
            "Super Mario Odessey\n",
            "Elden Ring\n",
            "Zork\n",
            "Tales of Arise\n"
          ]
        }
      ]
    },
    {
      "cell_type": "code",
      "source": [
        "list1 = [ 1,2,3]\n",
        "for i in range(0,3):\n",
        "  if i+1 < 3:\n",
        "    print(list1[i], video_games[i+1])\n",
        "  else:\n",
        "    print(list1[i])"
      ],
      "metadata": {
        "id": "waMGYoYyZh25",
        "outputId": "d9bb0cc5-2e71-4b36-f439-e90b4d4259e1",
        "colab": {
          "base_uri": "https://localhost:8080/"
        }
      },
      "execution_count": null,
      "outputs": [
        {
          "output_type": "stream",
          "name": "stdout",
          "text": [
            "1 Tales of Arise\n",
            "2 Super Mario Odessey\n",
            "3\n"
          ]
        }
      ]
    },
    {
      "cell_type": "markdown",
      "source": [
        "# For Loops are iteration based loops\n",
        "- As programmer's we tell the loop how long it needs to repeat a process before it terminates.\n",
        "- For loops on their own are only O(n) time complexity (constant time)\n",
        "- Nested for loops become exponentially expensive for each for loop"
      ],
      "metadata": {
        "id": "eEvwsENClbcF"
      }
    },
    {
      "cell_type": "code",
      "source": [
        "# another way to use a for loop is if you need it for a sequence\n",
        "for i in range(10):\n",
        "  print(i)\n",
        "# notice i started at a value of 0 and stopped at a value (n-1) from the max range value\n",
        "# Lets combine what we learned about lists and combine it with for loops\n",
        "\n",
        "# first let's make an empty list\n",
        "numbers = []\n",
        "\n",
        "# Now we'll make a list of numbers from 0 - 99\n",
        "# How can we set up a for loop to do this for us and make our lives easier?\n",
        "for i in range(0, 100):\n",
        "  numbers.append(i)\n",
        "\n",
        "print(len(numbers))\n",
        "print(numbers)\n",
        "\n",
        "# if we want even numbers from the same list\n",
        "\n",
        "enumbers = []\n",
        "for i in range(0, 100, 2):\n",
        "  enumbers.append(i)\n",
        "\n",
        "print(len(enumbers))\n",
        "print(enumbers)"
      ],
      "metadata": {
        "colab": {
          "base_uri": "https://localhost:8080/"
        },
        "id": "EvW5nfirlpEH",
        "outputId": "a3831ce2-f243-4294-81d1-491221bf18e1"
      },
      "execution_count": null,
      "outputs": [
        {
          "output_type": "stream",
          "name": "stdout",
          "text": [
            "0\n",
            "1\n",
            "2\n",
            "3\n",
            "4\n",
            "5\n",
            "6\n",
            "7\n",
            "8\n",
            "9\n",
            "100\n",
            "[0, 1, 2, 3, 4, 5, 6, 7, 8, 9, 10, 11, 12, 13, 14, 15, 16, 17, 18, 19, 20, 21, 22, 23, 24, 25, 26, 27, 28, 29, 30, 31, 32, 33, 34, 35, 36, 37, 38, 39, 40, 41, 42, 43, 44, 45, 46, 47, 48, 49, 50, 51, 52, 53, 54, 55, 56, 57, 58, 59, 60, 61, 62, 63, 64, 65, 66, 67, 68, 69, 70, 71, 72, 73, 74, 75, 76, 77, 78, 79, 80, 81, 82, 83, 84, 85, 86, 87, 88, 89, 90, 91, 92, 93, 94, 95, 96, 97, 98, 99]\n",
            "50\n",
            "[0, 2, 4, 6, 8, 10, 12, 14, 16, 18, 20, 22, 24, 26, 28, 30, 32, 34, 36, 38, 40, 42, 44, 46, 48, 50, 52, 54, 56, 58, 60, 62, 64, 66, 68, 70, 72, 74, 76, 78, 80, 82, 84, 86, 88, 90, 92, 94, 96, 98]\n"
          ]
        }
      ]
    },
    {
      "cell_type": "markdown",
      "source": [
        "# Let's look at a bit more advanced list called a list of lists or 2D array(matrix)"
      ],
      "metadata": {
        "id": "K42gmowmpirp"
      }
    },
    {
      "cell_type": "code",
      "source": [
        "list2D=[]\n",
        "rows, cols=5,5\n",
        "for i in range(rows):\n",
        "\tcol = []\n",
        "\tfor j in range(cols):\n",
        "\t\tcol.append(i)\n",
        "\tlist2D.append(col)\n",
        "print(list2D)\n"
      ],
      "metadata": {
        "colab": {
          "base_uri": "https://localhost:8080/"
        },
        "id": "lwVkNOHJptIr",
        "outputId": "9a176ede-268b-40a9-8b3f-c60bda4c2427"
      },
      "execution_count": null,
      "outputs": [
        {
          "output_type": "stream",
          "name": "stdout",
          "text": [
            "[[0, 0, 0, 0, 0], [1, 1, 1, 1, 1], [2, 2, 2, 2, 2], [3, 3, 3, 3, 3], [4, 4, 4, 4, 4]]\n"
          ]
        }
      ]
    },
    {
      "cell_type": "code",
      "source": [
        "for i in range(rows):\n",
        "  for j in range(cols):\n",
        "    print(list2D[i][j], end=' ')\n",
        "  print()"
      ],
      "metadata": {
        "id": "1QqhaPl4b2DD",
        "outputId": "17e0565c-e047-4be5-ed46-88e929563210",
        "colab": {
          "base_uri": "https://localhost:8080/"
        }
      },
      "execution_count": null,
      "outputs": [
        {
          "output_type": "stream",
          "name": "stdout",
          "text": [
            "0 0 0 0 0 \n",
            "1 1 1 1 1 \n",
            "2 2 2 2 2 \n",
            "3 3 3 3 3 \n",
            "4 4 4 4 4 \n"
          ]
        }
      ]
    },
    {
      "cell_type": "markdown",
      "source": [
        "## Iterating through tradional Python arrays is inefficient and costly\n",
        "\n",
        "1. In the above example, we have two for loops making up a 2D array of values. The time cost to generate this list is O(n^2) and as we keep nexting for loops, the time efficiency is effected exponentially.\n",
        "2. What this means for you and your programs is that they will take unescessarily long to run and cost more memory in your computer to do it. This can lead to crashes or system locks(aka the blue screen of death).\n",
        "3. In the case of a 2D or 3D list, we have little choice when we iterate through them. However, we will cover other libraries that can help make our programs more efficient in Python.\n",
        "\n",
        "## For more on 2D lists check out: [GeeksForGeeeks](https://www.geeksforgeeks.org/python-using-2d-arrays-lists-the-right-way/)"
      ],
      "metadata": {
        "id": "nqhMt61frhx-"
      }
    },
    {
      "cell_type": "markdown",
      "source": [
        "# If Statements and Control Flow(Time to Get Discrete!)\n",
        "1. Small Introduction to Formal Logic and Truth Tables"
      ],
      "metadata": {
        "id": "5BjIFUx6o8J1"
      }
    },
    {
      "cell_type": "markdown",
      "source": [
        "In Python, control flow refers to the order in which statements and instructions are executed in a program. It allows you to make decisions and repeat sections of code based on certain conditions. Python provides several control flow statements to facilitate this process. The main control flow statements in Python are:\n",
        "\n",
        "1. Conditional Statements (if, elif, else):\n",
        "   Conditional statements allow you to perform different actions based on different conditions. The `if` statement checks a condition and executes a block of code if the condition is True. Optionally, you can use `elif` (short for \"else if\") to check additional conditions, and `else` to provide a fallback option if none of the previous conditions are True. Here's an example:\n",
        "\n",
        "   ```python\n",
        "   x = 10\n",
        "   if x > 0:\n",
        "       print(\"Positive number\")\n",
        "   elif x == 0:\n",
        "       print(\"Zero\")\n",
        "   else:\n",
        "       print(\"Negative number\")\n",
        "   ```\n",
        "\n",
        "2. Loops:\n",
        "   Loops are used to repeat a block of code multiple times. Python provides two types of loops: `for` and `while`.\n",
        "\n",
        "   - `for` loop: It iterates over a sequence (such as a list, tuple, or string) or any iterable object. The loop variable takes on each value in the sequence. Here's an example:\n",
        "\n",
        "     ```python\n",
        "     fruits = [\"apple\", \"banana\", \"cherry\"]\n",
        "     for fruit in fruits:\n",
        "         print(fruit)\n",
        "     ```\n",
        "\n",
        "   - `while` loop: It repeatedly executes a block of code as long as a given condition is True. The condition is checked before each iteration. Here's an example:\n",
        "\n",
        "     ```python\n",
        "     i = 0\n",
        "     while i < 5:\n",
        "         print(i)\n",
        "         i += 1\n",
        "     ```\n",
        "\n",
        "3. Control Flow Keywords:\n",
        "   Python provides some keywords to modify the flow of control within loops and conditional statements.\n",
        "\n",
        "   - `break`: Terminates the current loop and continues execution at the next statement outside the loop.\n",
        "   - `continue`: Skips the rest of the current iteration and moves to the next iteration of the loop.\n",
        "   - `pass`: It acts as a placeholder and does nothing. It is commonly used as a placeholder for code that will be implemented later.\n",
        "\n",
        "   Here's an example that demonstrates the use of these keywords:\n",
        "\n",
        "   ```python\n",
        "   for i in range(10):\n",
        "       if i == 3:\n",
        "           continue\n",
        "       elif i == 7:\n",
        "           break\n",
        "       else:\n",
        "           pass\n",
        "       print(i)\n",
        "   ```\n",
        "\n",
        "4. Exception Handling (try, except, finally):\n",
        "   Exception handling is used to catch and handle errors or exceptional conditions that may occur during program execution. It helps in gracefully handling errors and prevents the program from crashing. The `try` block contains the code that might raise an exception, and the `except` block catches and handles the specific exception(s). The `finally` block is optional and is always executed, regardless of whether an exception occurred or not. Here's an example:\n",
        "\n",
        "   ```python\n",
        "   try:\n",
        "       x = 10 / 0  # Raises a ZeroDivisionError\n",
        "   except ZeroDivisionError:\n",
        "       print(\"Cannot divide by zero\")\n",
        "   finally:\n",
        "       print(\"This is always executed\")\n",
        "   ```\n",
        "\n",
        "These are the main control flow constructs in Python. By using these statements and keywords effectively, you can control the execution flow and make your programs more flexible and robust.\n",
        "\n",
        "Reference: https://openai.com/blog/chatgpt"
      ],
      "metadata": {
        "id": "atVYVuc1uS4X"
      }
    },
    {
      "cell_type": "code",
      "source": [
        "my_dict = {\"name\": \"John\", \"age\": 30, \"city\": \"New York\"}\n",
        "\n",
        "my_dict[\"age\"] = 35  # Modifying an existing value\n",
        "my_dict[\"country\"] = \"USA\"  # Adding a new key-value pair\n",
        "\n",
        "print(my_dict[\"name\"])"
      ],
      "metadata": {
        "id": "CcSrB2ZNhVMn",
        "outputId": "083497bc-1eaf-45b5-98b8-d63c724f255b",
        "colab": {
          "base_uri": "https://localhost:8080/"
        }
      },
      "execution_count": null,
      "outputs": [
        {
          "output_type": "stream",
          "name": "stdout",
          "text": [
            "John\n"
          ]
        }
      ]
    },
    {
      "cell_type": "code",
      "source": [
        "a = True\n",
        "b = False\n",
        "\n",
        "if a and b:\n",
        "  print(\"True\")\n",
        "else:\n",
        "  print(\"false\")"
      ],
      "metadata": {
        "id": "7buHy-JhiKkM",
        "outputId": "567b36f2-ef09-4a57-eded-c5ad165627af",
        "colab": {
          "base_uri": "https://localhost:8080/"
        }
      },
      "execution_count": null,
      "outputs": [
        {
          "output_type": "stream",
          "name": "stdout",
          "text": [
            "false\n"
          ]
        }
      ]
    },
    {
      "cell_type": "markdown",
      "source": [
        "# Dictionaries\n",
        "\n",
        "Dictionaries are a powerful data structure in Python that store data in key-value pairs. They are mutable, unordered, and allow quick access to values based on their corresponding keys. Here's a beginner-friendly tutorial on Python dictionaries:\n",
        "\n",
        "1. Creating a Dictionary:\n",
        "   To create a dictionary, you enclose comma-separated key-value pairs within curly braces `{}`. Each key is followed by a colon `:` and its corresponding value. Here's an example:\n",
        "\n",
        "   ```python\n",
        "   # Empty dictionary\n",
        "   my_dict = {}\n",
        "\n",
        "   # Dictionary with initial values\n",
        "   my_dict = {\"name\": \"John\", \"age\": 30, \"city\": \"New York\"}\n",
        "   ```\n",
        "\n",
        "2. Accessing Values:\n",
        "   You can access the values in a dictionary by using the corresponding keys inside square brackets `[]`. If a key doesn't exist, it will raise a `KeyError`. Alternatively, you can use the `get()` method, which returns `None` if the key doesn't exist (or a default value if provided). Here's an example:\n",
        "\n",
        "   ```python\n",
        "   my_dict = {\"name\": \"John\", \"age\": 30, \"city\": \"New York\"}\n",
        "\n",
        "   print(my_dict[\"name\"])  # Output: John\n",
        "\n",
        "   # Using get() method\n",
        "   print(my_dict.get(\"age\"))  # Output: 30\n",
        "   print(my_dict.get(\"country\"))  # Output: None\n",
        "   print(my_dict.get(\"country\", \"Unknown\"))  # Output: Unknown\n",
        "   ```\n",
        "\n",
        "3. Modifying and Adding Elements:\n",
        "   Dictionaries are mutable, so you can modify the values of existing keys or add new key-value pairs. To modify a value, access it using its key and assign a new value. To add a new key-value pair, assign a value to a new key that doesn't exist in the dictionary. Here's an example:\n",
        "\n",
        "   ```python\n",
        "   my_dict = {\"name\": \"John\", \"age\": 30, \"city\": \"New York\"}\n",
        "\n",
        "   my_dict[\"age\"] = 35  # Modifying an existing value\n",
        "   my_dict[\"country\"] = \"USA\"  # Adding a new key-value pair\n",
        "\n",
        "   print(my_dict)\n",
        "   # Output: {'name': 'John', 'age': 35, 'city': 'New York', 'country': 'USA'}\n",
        "   ```\n",
        "\n",
        "4. Dictionary Methods:\n",
        "   Python provides several built-in methods to perform common operations on dictionaries:\n",
        "\n",
        "   - `keys()`: Returns a view object containing all the keys.\n",
        "   - `values()`: Returns a view object containing all the values.\n",
        "   - `items()`: Returns a view object containing all the key-value pairs as tuples.\n",
        "   - `pop(key)`: Removes and returns the value associated with the given key.\n",
        "   - `popitem()`: Removes and returns the last inserted key-value pair as a tuple.\n",
        "   - `update(other_dict)`: Updates the dictionary with the key-value pairs from another dictionary.\n",
        "   - `clear()`: Removes all the elements from the dictionary.\n",
        "\n",
        "   Here's an example:\n",
        "\n",
        "   ```python\n",
        "   my_dict = {\"name\": \"John\", \"age\": 30, \"city\": \"New York\"}\n",
        "\n",
        "   print(my_dict.keys())  # Output: dict_keys(['name', 'age', 'city'])\n",
        "   print(my_dict.values())  # Output: dict_values(['John', 30, 'New York'])\n",
        "   print(my_dict.items())  # Output: dict_items([('name', 'John'), ('age', 30), ('city', 'New York')])\n",
        "\n",
        "   my_dict.pop(\"age\")  # Removing a specific key-value pair\n",
        "   print(my_dict)\n",
        "\n",
        "   my_dict.update({\"country\": \"USA\", \"zip\":\n",
        "\n",
        "   Reference: https://openai.com/blog/chatgpt"
      ],
      "metadata": {
        "id": "tYEhOAkgufAN"
      }
    },
    {
      "cell_type": "markdown",
      "source": [
        "# Functions\n",
        "Functions are a fundamental building block in Python that allow you to organize and reuse code. They help improve code readability, modularity, and maintainability. Here's a beginner-friendly tutorial on functions in Python:\n",
        "\n",
        "1. Defining a Function:\n",
        "   To define a function in Python, use the `def` keyword followed by the function name, parentheses `()`, and a colon `:`. The function body is indented and contains the code to be executed when the function is called. Here's an example:\n",
        "\n",
        "   ```python\n",
        "   def greet():\n",
        "       print(\"Hello, world!\")\n",
        "   ```\n",
        "\n",
        "2. Calling a Function:\n",
        "   To execute the code inside a function, you need to call it by using its name followed by parentheses `()`. Here's an example:\n",
        "\n",
        "   ```python\n",
        "   greet()  # Output: Hello, world!\n",
        "   ```\n",
        "\n",
        "3. Function Parameters:\n",
        "   Functions can accept input values called parameters or arguments. You specify parameters inside the parentheses when defining the function. When calling the function, you pass the corresponding values as arguments. Here's an example:\n",
        "\n",
        "   ```python\n",
        "   def greet(name):\n",
        "       print(\"Hello, \" + name + \"!\")\n",
        "\n",
        "   greet(\"Alice\")  # Output: Hello, Alice!\n",
        "   ```\n",
        "\n",
        "4. Return Statement:\n",
        "   Functions can return values using the `return` statement. This allows you to obtain results or computed values from a function. The `return` statement terminates the function execution and sends the specified value back to the caller. Here's an example:\n",
        "\n",
        "   ```python\n",
        "   def add_numbers(a, b):\n",
        "       return a + b\n",
        "\n",
        "   result = add_numbers(3, 5)\n",
        "   print(result)  # Output: 8\n",
        "   ```\n",
        "\n",
        "5. Default Parameters:\n",
        "   You can define default parameter values in a function by assigning them a value in the function definition. If an argument is not provided when calling the function, the default value will be used. Here's an example:\n",
        "\n",
        "   ```python\n",
        "   def greet(name=\"world\"):\n",
        "       print(\"Hello, \" + name + \"!\")\n",
        "\n",
        "   greet()  # Output: Hello, world!\n",
        "   greet(\"Alice\")  # Output: Hello, Alice!\n",
        "   ```\n",
        "\n",
        "6. Variable Number of Arguments:\n",
        "   Functions in Python can accept a variable number of arguments. You can use `*args` to pass a non-keyworded variable-length argument list or `**kwargs` to pass a keyworded variable-length argument list. Here's an example:\n",
        "\n",
        "   ```python\n",
        "   def add_numbers(*args):\n",
        "       total = 0\n",
        "       for num in args:\n",
        "           total += num\n",
        "       return total\n",
        "\n",
        "   result = add_numbers(1, 2, 3, 4)\n",
        "   print(result)  # Output: 10\n",
        "   ```\n",
        "\n",
        "7. Docstrings:\n",
        "   It's good practice to include a docstring in your functions. A docstring is a string that provides a description of the function's purpose, parameters, and return value. It helps other developers understand and use your functions correctly. Here's an example:\n",
        "\n",
        "   ```python\n",
        "   def add_numbers(a, b):\n",
        "       \"\"\"Adds two numbers and returns the sum.\"\"\"\n",
        "       return a + b\n",
        "   ```\n",
        "\n",
        "These are the basic concepts of functions in Python. By utilizing functions, you can break down complex tasks into smaller, manageable parts, promote code reuse, and improve the overall structure of your programs.\n",
        "\n",
        "Reference: https://openai.com/blog/chatgpt"
      ],
      "metadata": {
        "id": "2JujxXU0yWF5"
      }
    },
    {
      "cell_type": "code",
      "source": [
        "import math\n",
        "# Let's Implement The Pythagorean Theorem,.... the hard way\n",
        "# a = 2\n",
        "# b = 3\n",
        "# for programs that will run once, it is a good practice to initialize \"empty variables as 0\"\n",
        "# c = 0\n",
        "\n",
        "# Math!\n",
        "# print(\"The value of a is: \", a)\n",
        "# print(\"The value of b is: \", b)\n",
        "\n",
        "def pythag(a, b):\n",
        "  # Pythagorean Theorem\n",
        "  c = math.sqrt((a * a) + (b * b))\n",
        "  return c\n",
        "\n",
        "results = pythag(2,3)\n",
        "\n",
        "print(int(results))\n",
        "print(results)\n",
        "\n",
        "# # What Datatype do you think will be the output?\n",
        "# print(\"The hypotenuse is: \", c)\n",
        "\n",
        "# # Let's try casting this to a different datatype\n",
        "# print(\"The hypotenuse is: \", int((c)))"
      ],
      "metadata": {
        "id": "O1s0kIZPx3sn",
        "outputId": "e5ca2835-b9a3-46f4-a29b-59aa1f43543e",
        "colab": {
          "base_uri": "https://localhost:8080/"
        }
      },
      "execution_count": null,
      "outputs": [
        {
          "output_type": "stream",
          "name": "stdout",
          "text": [
            "3\n",
            "3.605551275463989\n"
          ]
        }
      ]
    },
    {
      "cell_type": "code",
      "source": [
        "def greet():\n",
        "  print(\"Hello World!\")\n",
        "\n",
        "greet()"
      ],
      "metadata": {
        "id": "Dx9CjwtlwoMl",
        "outputId": "4759c49b-7e34-46bb-8b83-fcb49c789158",
        "colab": {
          "base_uri": "https://localhost:8080/"
        }
      },
      "execution_count": null,
      "outputs": [
        {
          "output_type": "stream",
          "name": "stdout",
          "text": [
            "Hello World!\n"
          ]
        }
      ]
    },
    {
      "cell_type": "markdown",
      "source": [
        "# Switch Statements (Case Statement)\n",
        "Here's an example of a case statement implemented in Python using the `switch` statement.\n",
        "\n",
        "\n",
        "\n",
        "In this example, we define four functions representing different cases: `case_one()`, `case_two()`, `case_three()`, and `default_case()`. The `switch_case()` function takes a `case` argument, which is used to determine which function to execute based on the `switch` dictionary. If the `case` value matches one of the keys in the dictionary, the corresponding function is executed. If the `case` value is not found in the dictionary, the `default_case()` function is executed."
      ],
      "metadata": {
        "id": "yNSHuz1bALR6"
      }
    },
    {
      "cell_type": "code",
      "source": [
        "def case_one():\n",
        "    print(\"This is case one.\")\n",
        "\n",
        "def case_two():\n",
        "    print(\"This is case two.\")\n",
        "\n",
        "def case_three():\n",
        "    print(\"This is case three.\")\n",
        "\n",
        "def default_case():\n",
        "    print(\"This is the default case.\")\n",
        "\n",
        "def switch_case(case):\n",
        "    switch = {\n",
        "        1: case_one,\n",
        "        2: case_two,\n",
        "        3: case_three\n",
        "    }\n",
        "    # Get the function from switch dictionary based on the case argument\n",
        "    func = switch.get(case, default_case)\n",
        "    # Execute the function\n",
        "    func()\n",
        "\n",
        "# Test cases\n",
        "switch_case(1)  # Output: This is case one.\n",
        "switch_case(2)  # Output: This is case two.\n",
        "switch_case(3)  # Output: This is case three.\n",
        "switch_case(4)  # Output: This is the default case.\n"
      ],
      "metadata": {
        "id": "ElviapwWATLI",
        "outputId": "f1bb0380-444e-4985-d14a-3c95866999bf",
        "colab": {
          "base_uri": "https://localhost:8080/"
        }
      },
      "execution_count": null,
      "outputs": [
        {
          "output_type": "stream",
          "name": "stdout",
          "text": [
            "This is case one.\n",
            "This is case two.\n",
            "This is case three.\n",
            "This is the default case.\n"
          ]
        }
      ]
    },
    {
      "cell_type": "markdown",
      "source": [
        "# Recursion\n",
        "- Is a Function that calls itself until a base case is reached. Once the base case is arrived at, the function \"unwinds it self back to the intitial instance calculating a result."
      ],
      "metadata": {
        "id": "x9A_lL9qSWUh"
      }
    },
    {
      "cell_type": "code",
      "source": [
        "# Function for nth fibonacci\n",
        "# number - Dynamic Programming\n",
        "# Taking 1st two fibonacci numbers as 0 and 1\n",
        "FibArray = [0, 1]\n",
        "\n",
        "def fibonacci(n):\n",
        "\n",
        "\t# Check is n is less\n",
        "\t# than 0\n",
        "\tif n < 0:\n",
        "\t\tprint(\"Incorrect input\")\n",
        "\n",
        "\t# Check is n is less\n",
        "\t# than len(FibArray)\n",
        "\telif n < len(FibArray):\n",
        "\t\treturn FibArray[n]\n",
        "\telse:\n",
        "\t\tFibArray.append(fibonacci(n - 1) + fibonacci(n - 2))\n",
        "\t\treturn FibArray[n]\n",
        "\n",
        "# Driver Program\n",
        "print(fibonacci(1000))\n",
        "\n",
        "# This code is contributed by Saket Modi\n",
        "# Reference: https:GeeksForGeeks.com"
      ],
      "metadata": {
        "id": "M9TYrfDg-zvs",
        "colab": {
          "base_uri": "https://localhost:8080/",
          "height": 433
        },
        "outputId": "982da66b-f801-4915-b0b5-495fade4e6f4"
      },
      "execution_count": null,
      "outputs": [
        {
          "output_type": "error",
          "ename": "RecursionError",
          "evalue": "ignored",
          "traceback": [
            "\u001b[0;31m---------------------------------------------------------------------------\u001b[0m",
            "\u001b[0;31mRecursionError\u001b[0m                            Traceback (most recent call last)",
            "\u001b[0;32m<ipython-input-9-301db96ae45e>\u001b[0m in \u001b[0;36m<cell line: 22>\u001b[0;34m()\u001b[0m\n\u001b[1;32m     20\u001b[0m \u001b[0;34m\u001b[0m\u001b[0m\n\u001b[1;32m     21\u001b[0m \u001b[0;31m# Driver Program\u001b[0m\u001b[0;34m\u001b[0m\u001b[0;34m\u001b[0m\u001b[0m\n\u001b[0;32m---> 22\u001b[0;31m \u001b[0mprint\u001b[0m\u001b[0;34m(\u001b[0m\u001b[0mfibonacci\u001b[0m\u001b[0;34m(\u001b[0m\u001b[0;36m1000\u001b[0m\u001b[0;34m)\u001b[0m\u001b[0;34m)\u001b[0m\u001b[0;34m\u001b[0m\u001b[0;34m\u001b[0m\u001b[0m\n\u001b[0m\u001b[1;32m     23\u001b[0m \u001b[0;34m\u001b[0m\u001b[0m\n\u001b[1;32m     24\u001b[0m \u001b[0;31m# This code is contributed by Saket Modi\u001b[0m\u001b[0;34m\u001b[0m\u001b[0;34m\u001b[0m\u001b[0m\n",
            "\u001b[0;32m<ipython-input-9-301db96ae45e>\u001b[0m in \u001b[0;36mfibonacci\u001b[0;34m(n)\u001b[0m\n\u001b[1;32m     16\u001b[0m                 \u001b[0;32mreturn\u001b[0m \u001b[0mFibArray\u001b[0m\u001b[0;34m[\u001b[0m\u001b[0mn\u001b[0m\u001b[0;34m]\u001b[0m\u001b[0;34m\u001b[0m\u001b[0;34m\u001b[0m\u001b[0m\n\u001b[1;32m     17\u001b[0m         \u001b[0;32melse\u001b[0m\u001b[0;34m:\u001b[0m\u001b[0;34m\u001b[0m\u001b[0;34m\u001b[0m\u001b[0m\n\u001b[0;32m---> 18\u001b[0;31m                 \u001b[0mFibArray\u001b[0m\u001b[0;34m.\u001b[0m\u001b[0mappend\u001b[0m\u001b[0;34m(\u001b[0m\u001b[0mfibonacci\u001b[0m\u001b[0;34m(\u001b[0m\u001b[0mn\u001b[0m \u001b[0;34m-\u001b[0m \u001b[0;36m1\u001b[0m\u001b[0;34m)\u001b[0m \u001b[0;34m+\u001b[0m \u001b[0mfibonacci\u001b[0m\u001b[0;34m(\u001b[0m\u001b[0mn\u001b[0m \u001b[0;34m-\u001b[0m \u001b[0;36m2\u001b[0m\u001b[0;34m)\u001b[0m\u001b[0;34m)\u001b[0m\u001b[0;34m\u001b[0m\u001b[0;34m\u001b[0m\u001b[0m\n\u001b[0m\u001b[1;32m     19\u001b[0m                 \u001b[0;32mreturn\u001b[0m \u001b[0mFibArray\u001b[0m\u001b[0;34m[\u001b[0m\u001b[0mn\u001b[0m\u001b[0;34m]\u001b[0m\u001b[0;34m\u001b[0m\u001b[0;34m\u001b[0m\u001b[0m\n\u001b[1;32m     20\u001b[0m \u001b[0;34m\u001b[0m\u001b[0m\n",
            "... last 1 frames repeated, from the frame below ...\n",
            "\u001b[0;32m<ipython-input-9-301db96ae45e>\u001b[0m in \u001b[0;36mfibonacci\u001b[0;34m(n)\u001b[0m\n\u001b[1;32m     16\u001b[0m                 \u001b[0;32mreturn\u001b[0m \u001b[0mFibArray\u001b[0m\u001b[0;34m[\u001b[0m\u001b[0mn\u001b[0m\u001b[0;34m]\u001b[0m\u001b[0;34m\u001b[0m\u001b[0;34m\u001b[0m\u001b[0m\n\u001b[1;32m     17\u001b[0m         \u001b[0;32melse\u001b[0m\u001b[0;34m:\u001b[0m\u001b[0;34m\u001b[0m\u001b[0;34m\u001b[0m\u001b[0m\n\u001b[0;32m---> 18\u001b[0;31m                 \u001b[0mFibArray\u001b[0m\u001b[0;34m.\u001b[0m\u001b[0mappend\u001b[0m\u001b[0;34m(\u001b[0m\u001b[0mfibonacci\u001b[0m\u001b[0;34m(\u001b[0m\u001b[0mn\u001b[0m \u001b[0;34m-\u001b[0m \u001b[0;36m1\u001b[0m\u001b[0;34m)\u001b[0m \u001b[0;34m+\u001b[0m \u001b[0mfibonacci\u001b[0m\u001b[0;34m(\u001b[0m\u001b[0mn\u001b[0m \u001b[0;34m-\u001b[0m \u001b[0;36m2\u001b[0m\u001b[0;34m)\u001b[0m\u001b[0;34m)\u001b[0m\u001b[0;34m\u001b[0m\u001b[0;34m\u001b[0m\u001b[0m\n\u001b[0m\u001b[1;32m     19\u001b[0m                 \u001b[0;32mreturn\u001b[0m \u001b[0mFibArray\u001b[0m\u001b[0;34m[\u001b[0m\u001b[0mn\u001b[0m\u001b[0;34m]\u001b[0m\u001b[0;34m\u001b[0m\u001b[0;34m\u001b[0m\u001b[0m\n\u001b[1;32m     20\u001b[0m \u001b[0;34m\u001b[0m\u001b[0m\n",
            "\u001b[0;31mRecursionError\u001b[0m: maximum recursion depth exceeded in comparison"
          ]
        }
      ]
    },
    {
      "cell_type": "markdown",
      "source": [
        "# Reading .csv files into a list\n",
        "To read file data into a 2D list in Python, you can modify the previous approach by splitting each line into individual elements and appending them as a sublist in the main list. Here's an example:\n",
        "\n",
        "```python\n",
        "file_path = \"file.txt\"\n",
        "\n",
        "# Open the file\n",
        "file = open(file_path, \"r\")\n",
        "\n",
        "# Read the file content into a 2D list\n",
        "two_d_list = []\n",
        "for line in file:\n",
        "    line = line.strip()  # Remove leading/trailing whitespace\n",
        "    elements = line.split(\",\")  # Split the line into elements using a delimiter (e.g., comma)\n",
        "    two_d_list.append(elements)\n",
        "\n",
        "# Close the file\n",
        "file.close()\n",
        "\n",
        "# Print the content of the 2D list\n",
        "for sublist in two_d_list:\n",
        "    print(sublist)\n",
        "```\n",
        "\n",
        "In this example, each line from the file is split using the `split()` method, assuming a comma (\",\") as the delimiter. You can replace it with any other delimiter based on your file's format. The resulting elements are then appended as a sublist in the `two_d_list`.\n",
        "\n",
        "Make sure to replace `\"file.txt\"` with the actual path to your file. After reading the file into the `two_d_list`, you can perform various operations on it, such as accessing individual elements using indexing (`two_d_list[row_index][column_index]`).\n",
        "\n",
        "Note that if your file contains non-numeric data that needs to be converted to a specific type (e.g., integers or floats), you can apply type conversion on the elements before appending them to the sublist.\n",
        "\n",
        "Reference: https://openai.com/blog/chatgpt"
      ],
      "metadata": {
        "id": "v3eHUYBayEId"
      }
    },
    {
      "cell_type": "markdown",
      "source": [
        "\n",
        "# Applying what we know to INBRE(reading .csv files into a 2D list Example)\n",
        "## All Earthquakes within the last 30 days (USGS Data)"
      ],
      "metadata": {
        "id": "dfHYcviXw3xZ"
      }
    },
    {
      "cell_type": "markdown",
      "source": [
        "### Let's see if we can break this data into something more managable using a for loop"
      ],
      "metadata": {
        "id": "lGU-5eBl2Iz8"
      }
    },
    {
      "cell_type": "code",
      "source": [
        "import csv\n",
        "\n",
        "# open the csv file\n",
        "exampleFile = open('all_quakes_all_month.csv')\n",
        "# use the csv library to read the data's information and store it in a variable\n",
        "exampleReader = csv.reader(exampleFile)\n",
        "\n",
        "for row in exampleReader:\n",
        "  print('Row #' + str(exampleReader.line_num) + ' ' + str(row))"
      ],
      "metadata": {
        "colab": {
          "base_uri": "https://localhost:8080/",
          "height": 244
        },
        "id": "fKAJtCya2R-W",
        "outputId": "61f0db4b-aee4-49c2-b1d7-2ac5c6ccd0ac"
      },
      "execution_count": null,
      "outputs": [
        {
          "output_type": "error",
          "ename": "FileNotFoundError",
          "evalue": "ignored",
          "traceback": [
            "\u001b[0;31m---------------------------------------------------------------------------\u001b[0m",
            "\u001b[0;31mFileNotFoundError\u001b[0m                         Traceback (most recent call last)",
            "\u001b[0;32m<ipython-input-11-e85341d036df>\u001b[0m in \u001b[0;36m<cell line: 4>\u001b[0;34m()\u001b[0m\n\u001b[1;32m      2\u001b[0m \u001b[0;34m\u001b[0m\u001b[0m\n\u001b[1;32m      3\u001b[0m \u001b[0;31m# open the csv file\u001b[0m\u001b[0;34m\u001b[0m\u001b[0;34m\u001b[0m\u001b[0m\n\u001b[0;32m----> 4\u001b[0;31m \u001b[0mexampleFile\u001b[0m \u001b[0;34m=\u001b[0m \u001b[0mopen\u001b[0m\u001b[0;34m(\u001b[0m\u001b[0;34m'all_quakes_all_month.csv'\u001b[0m\u001b[0;34m)\u001b[0m\u001b[0;34m\u001b[0m\u001b[0;34m\u001b[0m\u001b[0m\n\u001b[0m\u001b[1;32m      5\u001b[0m \u001b[0;31m# use the csv library to read the data's information and store it in a variable\u001b[0m\u001b[0;34m\u001b[0m\u001b[0;34m\u001b[0m\u001b[0m\n\u001b[1;32m      6\u001b[0m \u001b[0mexampleReader\u001b[0m \u001b[0;34m=\u001b[0m \u001b[0mcsv\u001b[0m\u001b[0;34m.\u001b[0m\u001b[0mreader\u001b[0m\u001b[0;34m(\u001b[0m\u001b[0mexampleFile\u001b[0m\u001b[0;34m)\u001b[0m\u001b[0;34m\u001b[0m\u001b[0;34m\u001b[0m\u001b[0m\n",
            "\u001b[0;31mFileNotFoundError\u001b[0m: [Errno 2] No such file or directory: 'all_quakes_all_month.csv'"
          ]
        }
      ]
    },
    {
      "cell_type": "code",
      "source": [
        "# References: Al Sweigart, Automate the Boring Stuff with Python 2nd edition\n",
        "\n",
        "\n",
        "# # doing it the traditional way with a list\n",
        "# exampleData = list(exampleReader)\n",
        "# # print(exampleData)\n",
        "\n",
        "# print(exampleData[0][0])\n",
        "# print(exampleData[1][0])\n",
        "\n"
      ],
      "metadata": {
        "colab": {
          "base_uri": "https://localhost:8080/",
          "height": 244
        },
        "id": "VP-iOiI8xPgU",
        "outputId": "4a49ff95-07f4-4ce9-943f-7c18dea8fc60"
      },
      "execution_count": null,
      "outputs": [
        {
          "output_type": "error",
          "ename": "IndexError",
          "evalue": "ignored",
          "traceback": [
            "\u001b[0;31m---------------------------------------------------------------------------\u001b[0m",
            "\u001b[0;31mIndexError\u001b[0m                                Traceback (most recent call last)",
            "\u001b[0;32m<ipython-input-13-b1d2f2db3fb8>\u001b[0m in \u001b[0;36m<cell line: 8>\u001b[0;34m()\u001b[0m\n\u001b[1;32m      6\u001b[0m \u001b[0;31m# print(exampleData)\u001b[0m\u001b[0;34m\u001b[0m\u001b[0;34m\u001b[0m\u001b[0m\n\u001b[1;32m      7\u001b[0m \u001b[0;34m\u001b[0m\u001b[0m\n\u001b[0;32m----> 8\u001b[0;31m \u001b[0mprint\u001b[0m\u001b[0;34m(\u001b[0m\u001b[0mexampleData\u001b[0m\u001b[0;34m[\u001b[0m\u001b[0;36m0\u001b[0m\u001b[0;34m]\u001b[0m\u001b[0;34m[\u001b[0m\u001b[0;36m0\u001b[0m\u001b[0;34m]\u001b[0m\u001b[0;34m)\u001b[0m\u001b[0;34m\u001b[0m\u001b[0;34m\u001b[0m\u001b[0m\n\u001b[0m\u001b[1;32m      9\u001b[0m \u001b[0mprint\u001b[0m\u001b[0;34m(\u001b[0m\u001b[0mexampleData\u001b[0m\u001b[0;34m[\u001b[0m\u001b[0;36m1\u001b[0m\u001b[0;34m]\u001b[0m\u001b[0;34m[\u001b[0m\u001b[0;36m0\u001b[0m\u001b[0;34m]\u001b[0m\u001b[0;34m)\u001b[0m\u001b[0;34m\u001b[0m\u001b[0;34m\u001b[0m\u001b[0m\n\u001b[1;32m     10\u001b[0m \u001b[0;34m\u001b[0m\u001b[0m\n",
            "\u001b[0;31mIndexError\u001b[0m: list index out of range"
          ]
        }
      ]
    },
    {
      "cell_type": "code",
      "source": [
        "'''\n",
        "Let's try using a dictionary to select only specific data columns from our\n",
        ".csv file\n",
        "'''\n",
        "import csv\n",
        "exampleFile = open('all_quakes_all_month.csv')\n",
        "exampleDictReader = csv.DictReader(exampleFile)\n",
        "# let's write our results to a new .csv file based on our dictionary parameters\n",
        "fieldnames = ['lat', 'long', 'mag']\n",
        "with open('new_data.csv', 'w', newline='') as csvfile:\n",
        "  writer = csv.DictWriter(csvfile, fieldnames=fieldnames)\n",
        "  writer.writeheader()\n",
        "  for row in exampleDictReader:\n",
        "    writer.writerow({'lat': row['latitude'], 'long': row['longitude'], 'mag': row['mag']})\n",
        "    # print(\"Lat: {latitude} Lon: {longitude} Mag: {mag}\".format(**row))\n",
        "\n"
      ],
      "metadata": {
        "id": "11Ihtx4z3KML",
        "outputId": "ae9e49eb-7da0-4353-f9ef-81a8eb2e0c70",
        "colab": {
          "base_uri": "https://localhost:8080/",
          "height": 244
        }
      },
      "execution_count": null,
      "outputs": [
        {
          "output_type": "error",
          "ename": "FileNotFoundError",
          "evalue": "ignored",
          "traceback": [
            "\u001b[0;31m---------------------------------------------------------------------------\u001b[0m",
            "\u001b[0;31mFileNotFoundError\u001b[0m                         Traceback (most recent call last)",
            "\u001b[0;32m<ipython-input-9-aa58dbfe4e47>\u001b[0m in \u001b[0;36m<cell line: 6>\u001b[0;34m()\u001b[0m\n\u001b[1;32m      4\u001b[0m '''\n\u001b[1;32m      5\u001b[0m \u001b[0;32mimport\u001b[0m \u001b[0mcsv\u001b[0m\u001b[0;34m\u001b[0m\u001b[0;34m\u001b[0m\u001b[0m\n\u001b[0;32m----> 6\u001b[0;31m \u001b[0mexampleFile\u001b[0m \u001b[0;34m=\u001b[0m \u001b[0mopen\u001b[0m\u001b[0;34m(\u001b[0m\u001b[0;34m'all_quakes_all_month.csv'\u001b[0m\u001b[0;34m)\u001b[0m\u001b[0;34m\u001b[0m\u001b[0;34m\u001b[0m\u001b[0m\n\u001b[0m\u001b[1;32m      7\u001b[0m \u001b[0mexampleDictReader\u001b[0m \u001b[0;34m=\u001b[0m \u001b[0mcsv\u001b[0m\u001b[0;34m.\u001b[0m\u001b[0mDictReader\u001b[0m\u001b[0;34m(\u001b[0m\u001b[0mexampleFile\u001b[0m\u001b[0;34m)\u001b[0m\u001b[0;34m\u001b[0m\u001b[0;34m\u001b[0m\u001b[0m\n\u001b[1;32m      8\u001b[0m \u001b[0;31m# let's write our results to a new .csv file based on our dictionary parameters\u001b[0m\u001b[0;34m\u001b[0m\u001b[0;34m\u001b[0m\u001b[0m\n",
            "\u001b[0;31mFileNotFoundError\u001b[0m: [Errno 2] No such file or directory: 'all_quakes_all_month.csv'"
          ]
        }
      ]
    },
    {
      "cell_type": "markdown",
      "source": [
        "# Matplot lib"
      ],
      "metadata": {
        "id": "S1sfUrIiMkHM"
      }
    },
    {
      "cell_type": "code",
      "source": [
        "# you may have to install this library on your computer\n",
        "import pandas as pd\n",
        "# install matplotlib first\n",
        "import matplotlib.pyplot as plt\n",
        "\n",
        "# Set the Dimensions of your plot\n",
        "plt.rcParams[\"figure.figsize\"] = [7.00, 3.50]\n",
        "# auto configure the size of the layout for the graph\n",
        "plt.rcParams[\"figure.autolayout\"] = True\n",
        "# create a list with the exact same names as our data set to turn it into a\n",
        "# pandas data frame (works similar to a dictionary)\n",
        "columns = [\"lat\", \"long\", \"mag\"]\n",
        "# read the data into the data frame\n",
        "dataFrame = pd.read_csv(\"new_data.csv\", usecols=columns)\n",
        "# check to see if your data frame has data\n",
        "print(\"Contents in csv file: \", dataFrame)\n",
        "\n",
        "\n",
        "''' let's see if our new data file has a normalized distribution of values for\n",
        "earthquake magnitudes to run some statistics on it.\n",
        "'''\n",
        "\n",
        "plt.hist(dataFrame[\"mag\"])\n",
        "plt.axis(x,y)\n",
        "plt.show()"
      ],
      "metadata": {
        "colab": {
          "base_uri": "https://localhost:8080/",
          "height": 415
        },
        "id": "WjBrY1e2M7aW",
        "outputId": "eff34279-890b-470e-bf73-81c6ea96df95"
      },
      "execution_count": null,
      "outputs": [
        {
          "output_type": "error",
          "ename": "FileNotFoundError",
          "evalue": "ignored",
          "traceback": [
            "\u001b[0;31m---------------------------------------------------------------------------\u001b[0m",
            "\u001b[0;31mFileNotFoundError\u001b[0m                         Traceback (most recent call last)",
            "\u001b[0;32m<ipython-input-10-54847f2330d8>\u001b[0m in \u001b[0;36m<cell line: 14>\u001b[0;34m()\u001b[0m\n\u001b[1;32m     12\u001b[0m \u001b[0mcolumns\u001b[0m \u001b[0;34m=\u001b[0m \u001b[0;34m[\u001b[0m\u001b[0;34m\"lat\"\u001b[0m\u001b[0;34m,\u001b[0m \u001b[0;34m\"long\"\u001b[0m\u001b[0;34m,\u001b[0m \u001b[0;34m\"mag\"\u001b[0m\u001b[0;34m]\u001b[0m\u001b[0;34m\u001b[0m\u001b[0;34m\u001b[0m\u001b[0m\n\u001b[1;32m     13\u001b[0m \u001b[0;31m# read the data into the data frame\u001b[0m\u001b[0;34m\u001b[0m\u001b[0;34m\u001b[0m\u001b[0m\n\u001b[0;32m---> 14\u001b[0;31m \u001b[0mdataFrame\u001b[0m \u001b[0;34m=\u001b[0m \u001b[0mpd\u001b[0m\u001b[0;34m.\u001b[0m\u001b[0mread_csv\u001b[0m\u001b[0;34m(\u001b[0m\u001b[0;34m\"new_data.csv\"\u001b[0m\u001b[0;34m,\u001b[0m \u001b[0musecols\u001b[0m\u001b[0;34m=\u001b[0m\u001b[0mcolumns\u001b[0m\u001b[0;34m)\u001b[0m\u001b[0;34m\u001b[0m\u001b[0;34m\u001b[0m\u001b[0m\n\u001b[0m\u001b[1;32m     15\u001b[0m \u001b[0;31m# check to see if your data frame has data\u001b[0m\u001b[0;34m\u001b[0m\u001b[0;34m\u001b[0m\u001b[0m\n\u001b[1;32m     16\u001b[0m \u001b[0mprint\u001b[0m\u001b[0;34m(\u001b[0m\u001b[0;34m\"Contents in csv file: \"\u001b[0m\u001b[0;34m,\u001b[0m \u001b[0mdataFrame\u001b[0m\u001b[0;34m)\u001b[0m\u001b[0;34m\u001b[0m\u001b[0;34m\u001b[0m\u001b[0m\n",
            "\u001b[0;32m/usr/local/lib/python3.10/dist-packages/pandas/util/_decorators.py\u001b[0m in \u001b[0;36mwrapper\u001b[0;34m(*args, **kwargs)\u001b[0m\n\u001b[1;32m    209\u001b[0m                 \u001b[0;32melse\u001b[0m\u001b[0;34m:\u001b[0m\u001b[0;34m\u001b[0m\u001b[0;34m\u001b[0m\u001b[0m\n\u001b[1;32m    210\u001b[0m                     \u001b[0mkwargs\u001b[0m\u001b[0;34m[\u001b[0m\u001b[0mnew_arg_name\u001b[0m\u001b[0;34m]\u001b[0m \u001b[0;34m=\u001b[0m \u001b[0mnew_arg_value\u001b[0m\u001b[0;34m\u001b[0m\u001b[0;34m\u001b[0m\u001b[0m\n\u001b[0;32m--> 211\u001b[0;31m             \u001b[0;32mreturn\u001b[0m \u001b[0mfunc\u001b[0m\u001b[0;34m(\u001b[0m\u001b[0;34m*\u001b[0m\u001b[0margs\u001b[0m\u001b[0;34m,\u001b[0m \u001b[0;34m**\u001b[0m\u001b[0mkwargs\u001b[0m\u001b[0;34m)\u001b[0m\u001b[0;34m\u001b[0m\u001b[0;34m\u001b[0m\u001b[0m\n\u001b[0m\u001b[1;32m    212\u001b[0m \u001b[0;34m\u001b[0m\u001b[0m\n\u001b[1;32m    213\u001b[0m         \u001b[0;32mreturn\u001b[0m \u001b[0mcast\u001b[0m\u001b[0;34m(\u001b[0m\u001b[0mF\u001b[0m\u001b[0;34m,\u001b[0m \u001b[0mwrapper\u001b[0m\u001b[0;34m)\u001b[0m\u001b[0;34m\u001b[0m\u001b[0;34m\u001b[0m\u001b[0m\n",
            "\u001b[0;32m/usr/local/lib/python3.10/dist-packages/pandas/util/_decorators.py\u001b[0m in \u001b[0;36mwrapper\u001b[0;34m(*args, **kwargs)\u001b[0m\n\u001b[1;32m    329\u001b[0m                     \u001b[0mstacklevel\u001b[0m\u001b[0;34m=\u001b[0m\u001b[0mfind_stack_level\u001b[0m\u001b[0;34m(\u001b[0m\u001b[0;34m)\u001b[0m\u001b[0;34m,\u001b[0m\u001b[0;34m\u001b[0m\u001b[0;34m\u001b[0m\u001b[0m\n\u001b[1;32m    330\u001b[0m                 )\n\u001b[0;32m--> 331\u001b[0;31m             \u001b[0;32mreturn\u001b[0m \u001b[0mfunc\u001b[0m\u001b[0;34m(\u001b[0m\u001b[0;34m*\u001b[0m\u001b[0margs\u001b[0m\u001b[0;34m,\u001b[0m \u001b[0;34m**\u001b[0m\u001b[0mkwargs\u001b[0m\u001b[0;34m)\u001b[0m\u001b[0;34m\u001b[0m\u001b[0;34m\u001b[0m\u001b[0m\n\u001b[0m\u001b[1;32m    332\u001b[0m \u001b[0;34m\u001b[0m\u001b[0m\n\u001b[1;32m    333\u001b[0m         \u001b[0;31m# error: \"Callable[[VarArg(Any), KwArg(Any)], Any]\" has no\u001b[0m\u001b[0;34m\u001b[0m\u001b[0;34m\u001b[0m\u001b[0m\n",
            "\u001b[0;32m/usr/local/lib/python3.10/dist-packages/pandas/io/parsers/readers.py\u001b[0m in \u001b[0;36mread_csv\u001b[0;34m(filepath_or_buffer, sep, delimiter, header, names, index_col, usecols, squeeze, prefix, mangle_dupe_cols, dtype, engine, converters, true_values, false_values, skipinitialspace, skiprows, skipfooter, nrows, na_values, keep_default_na, na_filter, verbose, skip_blank_lines, parse_dates, infer_datetime_format, keep_date_col, date_parser, dayfirst, cache_dates, iterator, chunksize, compression, thousands, decimal, lineterminator, quotechar, quoting, doublequote, escapechar, comment, encoding, encoding_errors, dialect, error_bad_lines, warn_bad_lines, on_bad_lines, delim_whitespace, low_memory, memory_map, float_precision, storage_options)\u001b[0m\n\u001b[1;32m    948\u001b[0m     \u001b[0mkwds\u001b[0m\u001b[0;34m.\u001b[0m\u001b[0mupdate\u001b[0m\u001b[0;34m(\u001b[0m\u001b[0mkwds_defaults\u001b[0m\u001b[0;34m)\u001b[0m\u001b[0;34m\u001b[0m\u001b[0;34m\u001b[0m\u001b[0m\n\u001b[1;32m    949\u001b[0m \u001b[0;34m\u001b[0m\u001b[0m\n\u001b[0;32m--> 950\u001b[0;31m     \u001b[0;32mreturn\u001b[0m \u001b[0m_read\u001b[0m\u001b[0;34m(\u001b[0m\u001b[0mfilepath_or_buffer\u001b[0m\u001b[0;34m,\u001b[0m \u001b[0mkwds\u001b[0m\u001b[0;34m)\u001b[0m\u001b[0;34m\u001b[0m\u001b[0;34m\u001b[0m\u001b[0m\n\u001b[0m\u001b[1;32m    951\u001b[0m \u001b[0;34m\u001b[0m\u001b[0m\n\u001b[1;32m    952\u001b[0m \u001b[0;34m\u001b[0m\u001b[0m\n",
            "\u001b[0;32m/usr/local/lib/python3.10/dist-packages/pandas/io/parsers/readers.py\u001b[0m in \u001b[0;36m_read\u001b[0;34m(filepath_or_buffer, kwds)\u001b[0m\n\u001b[1;32m    603\u001b[0m \u001b[0;34m\u001b[0m\u001b[0m\n\u001b[1;32m    604\u001b[0m     \u001b[0;31m# Create the parser.\u001b[0m\u001b[0;34m\u001b[0m\u001b[0;34m\u001b[0m\u001b[0m\n\u001b[0;32m--> 605\u001b[0;31m     \u001b[0mparser\u001b[0m \u001b[0;34m=\u001b[0m \u001b[0mTextFileReader\u001b[0m\u001b[0;34m(\u001b[0m\u001b[0mfilepath_or_buffer\u001b[0m\u001b[0;34m,\u001b[0m \u001b[0;34m**\u001b[0m\u001b[0mkwds\u001b[0m\u001b[0;34m)\u001b[0m\u001b[0;34m\u001b[0m\u001b[0;34m\u001b[0m\u001b[0m\n\u001b[0m\u001b[1;32m    606\u001b[0m \u001b[0;34m\u001b[0m\u001b[0m\n\u001b[1;32m    607\u001b[0m     \u001b[0;32mif\u001b[0m \u001b[0mchunksize\u001b[0m \u001b[0;32mor\u001b[0m \u001b[0miterator\u001b[0m\u001b[0;34m:\u001b[0m\u001b[0;34m\u001b[0m\u001b[0;34m\u001b[0m\u001b[0m\n",
            "\u001b[0;32m/usr/local/lib/python3.10/dist-packages/pandas/io/parsers/readers.py\u001b[0m in \u001b[0;36m__init__\u001b[0;34m(self, f, engine, **kwds)\u001b[0m\n\u001b[1;32m   1440\u001b[0m \u001b[0;34m\u001b[0m\u001b[0m\n\u001b[1;32m   1441\u001b[0m         \u001b[0mself\u001b[0m\u001b[0;34m.\u001b[0m\u001b[0mhandles\u001b[0m\u001b[0;34m:\u001b[0m \u001b[0mIOHandles\u001b[0m \u001b[0;34m|\u001b[0m \u001b[0;32mNone\u001b[0m \u001b[0;34m=\u001b[0m \u001b[0;32mNone\u001b[0m\u001b[0;34m\u001b[0m\u001b[0;34m\u001b[0m\u001b[0m\n\u001b[0;32m-> 1442\u001b[0;31m         \u001b[0mself\u001b[0m\u001b[0;34m.\u001b[0m\u001b[0m_engine\u001b[0m \u001b[0;34m=\u001b[0m \u001b[0mself\u001b[0m\u001b[0;34m.\u001b[0m\u001b[0m_make_engine\u001b[0m\u001b[0;34m(\u001b[0m\u001b[0mf\u001b[0m\u001b[0;34m,\u001b[0m \u001b[0mself\u001b[0m\u001b[0;34m.\u001b[0m\u001b[0mengine\u001b[0m\u001b[0;34m)\u001b[0m\u001b[0;34m\u001b[0m\u001b[0;34m\u001b[0m\u001b[0m\n\u001b[0m\u001b[1;32m   1443\u001b[0m \u001b[0;34m\u001b[0m\u001b[0m\n\u001b[1;32m   1444\u001b[0m     \u001b[0;32mdef\u001b[0m \u001b[0mclose\u001b[0m\u001b[0;34m(\u001b[0m\u001b[0mself\u001b[0m\u001b[0;34m)\u001b[0m \u001b[0;34m->\u001b[0m \u001b[0;32mNone\u001b[0m\u001b[0;34m:\u001b[0m\u001b[0;34m\u001b[0m\u001b[0;34m\u001b[0m\u001b[0m\n",
            "\u001b[0;32m/usr/local/lib/python3.10/dist-packages/pandas/io/parsers/readers.py\u001b[0m in \u001b[0;36m_make_engine\u001b[0;34m(self, f, engine)\u001b[0m\n\u001b[1;32m   1733\u001b[0m                 \u001b[0;32mif\u001b[0m \u001b[0;34m\"b\"\u001b[0m \u001b[0;32mnot\u001b[0m \u001b[0;32min\u001b[0m \u001b[0mmode\u001b[0m\u001b[0;34m:\u001b[0m\u001b[0;34m\u001b[0m\u001b[0;34m\u001b[0m\u001b[0m\n\u001b[1;32m   1734\u001b[0m                     \u001b[0mmode\u001b[0m \u001b[0;34m+=\u001b[0m \u001b[0;34m\"b\"\u001b[0m\u001b[0;34m\u001b[0m\u001b[0;34m\u001b[0m\u001b[0m\n\u001b[0;32m-> 1735\u001b[0;31m             self.handles = get_handle(\n\u001b[0m\u001b[1;32m   1736\u001b[0m                 \u001b[0mf\u001b[0m\u001b[0;34m,\u001b[0m\u001b[0;34m\u001b[0m\u001b[0;34m\u001b[0m\u001b[0m\n\u001b[1;32m   1737\u001b[0m                 \u001b[0mmode\u001b[0m\u001b[0;34m,\u001b[0m\u001b[0;34m\u001b[0m\u001b[0;34m\u001b[0m\u001b[0m\n",
            "\u001b[0;32m/usr/local/lib/python3.10/dist-packages/pandas/io/common.py\u001b[0m in \u001b[0;36mget_handle\u001b[0;34m(path_or_buf, mode, encoding, compression, memory_map, is_text, errors, storage_options)\u001b[0m\n\u001b[1;32m    854\u001b[0m         \u001b[0;32mif\u001b[0m \u001b[0mioargs\u001b[0m\u001b[0;34m.\u001b[0m\u001b[0mencoding\u001b[0m \u001b[0;32mand\u001b[0m \u001b[0;34m\"b\"\u001b[0m \u001b[0;32mnot\u001b[0m \u001b[0;32min\u001b[0m \u001b[0mioargs\u001b[0m\u001b[0;34m.\u001b[0m\u001b[0mmode\u001b[0m\u001b[0;34m:\u001b[0m\u001b[0;34m\u001b[0m\u001b[0;34m\u001b[0m\u001b[0m\n\u001b[1;32m    855\u001b[0m             \u001b[0;31m# Encoding\u001b[0m\u001b[0;34m\u001b[0m\u001b[0;34m\u001b[0m\u001b[0m\n\u001b[0;32m--> 856\u001b[0;31m             handle = open(\n\u001b[0m\u001b[1;32m    857\u001b[0m                 \u001b[0mhandle\u001b[0m\u001b[0;34m,\u001b[0m\u001b[0;34m\u001b[0m\u001b[0;34m\u001b[0m\u001b[0m\n\u001b[1;32m    858\u001b[0m                 \u001b[0mioargs\u001b[0m\u001b[0;34m.\u001b[0m\u001b[0mmode\u001b[0m\u001b[0;34m,\u001b[0m\u001b[0;34m\u001b[0m\u001b[0;34m\u001b[0m\u001b[0m\n",
            "\u001b[0;31mFileNotFoundError\u001b[0m: [Errno 2] No such file or directory: 'new_data.csv'"
          ]
        }
      ]
    },
    {
      "cell_type": "markdown",
      "source": [
        "# Numpy"
      ],
      "metadata": {
        "id": "fg362_sdcE6m"
      }
    },
    {
      "cell_type": "code",
      "source": [
        "import numpy as np\n",
        "\n",
        "x = np.array([[1,2], [3,4]])\n",
        "'''\n",
        "[1, 2]\n",
        "[3, 4]\n",
        "'''\n",
        "print(np.sum(x)) # compute sum of all elements\n",
        "print(np.sum(x, axis=0)) # sum of each column\n",
        "print(np.sum(x, axis=1)) # sum of each row\n",
        "\n",
        "\n",
        "print(np.sum(x[:,0])) # computes sum of column 0\n",
        "print(x[:,0].sum()) # same as line above"
      ],
      "metadata": {
        "id": "WcNMPkN3cJ13",
        "outputId": "2fe512d3-accb-4267-c098-f56e4e8033a8",
        "colab": {
          "base_uri": "https://localhost:8080/"
        }
      },
      "execution_count": null,
      "outputs": [
        {
          "output_type": "stream",
          "name": "stdout",
          "text": [
            "10\n",
            "[4 6]\n",
            "[3 7]\n",
            "4\n",
            "4\n"
          ]
        }
      ]
    },
    {
      "cell_type": "markdown",
      "source": [
        "# Bash Scripting"
      ],
      "metadata": {
        "id": "RhC5qValRDWq"
      }
    },
    {
      "cell_type": "markdown",
      "source": [
        "\n",
        "\n",
        " Bash (Bourne Again SHell) is a popular scripting language used in Unix and Unix-like operating systems. It's a powerful tool for automating tasks and running command-line operations. Let's get started with the basics:\n",
        "\n",
        "1. Shebang:\n",
        "   Every bash script begins with a shebang line, which tells the system the path to the interpreter. Typically, it is `#!/bin/bash`. It ensures that the script is executed using the Bash shell.\n",
        "\n",
        "2. Variables:\n",
        "   Bash uses variables to store values. To assign a value to a variable, use the following syntax:\n",
        "   ```bash\n",
        "   variable_name=value\n",
        "   ```\n",
        "\n",
        "3. Comments:\n",
        "   Comments are lines in a script that are not executed but provide useful information. They start with the `#` character.\n",
        "\n",
        "4. Printing to the Terminal:\n",
        "   To display messages or variable values in the terminal, use the `echo` command:\n",
        "   ```bash\n",
        "   echo \"Hello, World!\"\n",
        "   ```\n",
        "\n",
        "5. Input from Users:\n",
        "   You can prompt the user for input and store it in a variable using the `read` command:\n",
        "   ```bash\n",
        "   echo \"What's your name?\"\n",
        "   read name\n",
        "   echo \"Hello, $name!\"\n",
        "   ```\n",
        "\n",
        "6. Conditionals:\n",
        "   Bash supports if-else statements for conditional execution. Here's a simple example:\n",
        "   ```bash\n",
        "   if [ $age -ge 18 ]; then\n",
        "       echo \"You are an adult.\"\n",
        "   else\n",
        "       echo \"You are a minor.\"\n",
        "   fi\n",
        "   ```\n",
        "\n",
        "7. Loops:\n",
        "   Bash provides different types of loops, such as `for`, `while`, and `until`. Here's an example of a `for` loop:\n",
        "   ```bash\n",
        "   for i in {1..5}; do\n",
        "       echo $i\n",
        "   done\n",
        "   ```\n",
        "\n",
        "8. Command Substitution:\n",
        "   You can capture the output of a command and assign it to a variable using command substitution. Here's an example:\n",
        "   ```bash\n",
        "   current_date=$(date +%Y-%m-%d)\n",
        "   echo \"Today's date is $current_date\"\n",
        "   ```\n",
        "\n",
        "9. Functions:\n",
        "   Functions allow you to define reusable blocks of code. Here's an example:\n",
        "   ```bash\n",
        "   greet() {\n",
        "       echo \"Hello, $1!\"\n",
        "   }\n",
        "   greet \"Alice\"\n",
        "   ```\n",
        "\n",
        "10. Running Scripts:\n",
        "    Save your script with a `.sh` extension and make it executable using the `chmod` command:\n",
        "    ```bash\n",
        "    chmod +x script.sh\n",
        "    ./script.sh\n",
        "    ```\n",
        "\n",
        "This is just a brief overview of bash scripting. You can explore more advanced topics like file handling, string manipulation, and regular expressions. I recommend referring to online tutorials and the bash documentation for further learning.\n",
        "\n",
        "Tutorial Outline Reference:[chatGPT](https://chat.openai.com/)\n",
        "\n"
      ],
      "metadata": {
        "id": "6kjecgzGRG5C"
      }
    },
    {
      "cell_type": "markdown",
      "source": [
        "# Example Bash Script\n",
        "\n",
        "\n",
        "\n",
        "```\n",
        "#!/bin/bash\n",
        "# ^ this is the shegbang and is required at the start of every bash script\n",
        "# run your foldex or command line processes\n",
        "ls -a\n",
        "\n",
        "# assign the exit status to a variable\n",
        "exit_status=$?\n",
        "\n",
        "# Write the exit status to a new file\n",
        "echo $exit_status > exit_status.txt\n",
        "# make sure you exit the program successfully with output to the terminal\n",
        "echo $exit_status\n",
        "```\n",
        "\n"
      ],
      "metadata": {
        "id": "Fhj4cQDPR29C"
      }
    },
    {
      "cell_type": "markdown",
      "source": [
        "# Run Your Bash Scripts Using Python"
      ],
      "metadata": {
        "id": "Aak0GZtzXxdz"
      }
    },
    {
      "cell_type": "markdown",
      "source": [
        "You can run bash scripts from Python using the `subprocess` module. The `subprocess` module provides functionality for spawning new processes, connecting to their input/output/error pipes, and obtaining their return codes. Here's an example of how you can run a bash script from Python:\n",
        "\n",
        "```python\n",
        "import subprocess\n",
        "\n",
        "# Run a bash script\n",
        "script_path = \"/path/to/script.sh\"\n",
        "subprocess.run([\"bash\", script_path])\n",
        "```\n",
        "\n",
        "In the above example, replace `/path/to/script.sh` with the actual path to your bash script. The `subprocess.run()` function is used to execute the script. It takes a list of command-line arguments as its first argument. In this case, we pass `[\"bash\", script_path]` to run the bash interpreter and execute the specified script.\n",
        "\n",
        "You can also capture the output and error messages generated by the bash script by using the `subprocess.run()` function with additional parameters. Here's an example:\n",
        "\n",
        "```python\n",
        "import subprocess\n",
        "\n",
        "# Run a bash script and capture output and errors\n",
        "script_path = \"/path/to/script.sh\"\n",
        "result = subprocess.run([\"bash\", script_path], capture_output=True, text=True)\n",
        "\n",
        "# Print the output and errors\n",
        "print(\"Output:\", result.stdout)\n",
        "print(\"Errors:\", result.stderr)\n",
        "```\n",
        "\n",
        "In this example, we added the `capture_output=True` parameter to capture the output and errors generated by the script. We also set `text=True` to get the output and errors as strings. The `result` variable will contain the captured output and errors, which you can access using `result.stdout` and `result.stderr`, respectively.\n",
        "\n",
        "You can further customize the behavior of running the script by exploring the various parameters and methods provided by the `subprocess` module."
      ],
      "metadata": {
        "id": "U7JGs8B0Yu40"
      }
    },
    {
      "cell_type": "code",
      "source": [
        "import subprocess\n",
        "#script_path = \"test.sh\"\n",
        "\n",
        "# if you know that you have more than one bash script put their paths in a list\n",
        "scripts = [\"test0.sh\", \"test1.sh\", \"test2.sh\"]\n",
        "\n",
        "# # single script\n",
        "# result = subprocess.run([\"bash\", script_path], capture_output=True, text=True)\n",
        "\n",
        "# if result.returncode == 0:\n",
        "#   print(\"Running Process \", script)\n",
        "# else:\n",
        "#   # halt the program and exit because something went wrong\n",
        "#   print(\"uh-oh something went wrong! \")\n",
        "#   exit(1)\n",
        "\n",
        "\n",
        "for script in range(len(scripts)):\n",
        "  results = subprocess.run([\"bash\", scripts[script]], capture_output=True, text=True)\n",
        "  if results.returncode == 0:\n",
        "    print(\"Running Process \", script)\n",
        "    print(results)\n",
        "  else:\n",
        "  # halt the program and exit because something went wrong\n",
        "    print(\"uh-oh something went wrong! \")\n",
        "    exit(1)"
      ],
      "metadata": {
        "id": "mnVSu00-Y0k_",
        "outputId": "7d526e13-f847-4daa-d65a-3b31072e4201",
        "colab": {
          "base_uri": "https://localhost:8080/"
        }
      },
      "execution_count": null,
      "outputs": [
        {
          "output_type": "stream",
          "name": "stdout",
          "text": [
            "Running Process  0\n",
            "CompletedProcess(args=['bash', 'test0.sh'], returncode=0, stdout='.\\n..\\nall_quakes_all_month.csv\\n.config\\nnew_data.csv\\nsample_data\\ntest0.sh\\ntest1.sh\\ntest2.sh\\n', stderr='')\n",
            "Running Process  1\n",
            "CompletedProcess(args=['bash', 'test1.sh'], returncode=0, stdout='.\\n..\\nall_quakes_all_month.csv\\n.config\\nexit_status.txt\\nnew_data.csv\\nsample_data\\ntest0.sh\\ntest1.sh\\ntest2.sh\\n', stderr='')\n",
            "Running Process  2\n",
            "CompletedProcess(args=['bash', 'test2.sh'], returncode=0, stdout='.\\n..\\nall_quakes_all_month.csv\\n.config\\nexit_status1.txt\\nexit_status.txt\\nnew_data.csv\\nsample_data\\ntest0.sh\\ntest1.sh\\ntest2.sh\\n', stderr='')\n"
          ]
        }
      ]
    }
  ]
}